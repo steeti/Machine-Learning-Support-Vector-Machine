{
 "cells": [
  {
   "cell_type": "markdown",
   "metadata": {},
   "source": [
    "# Support Vector Machines (SVM) - Hard Margin Case\n",
    "---\n",
    "Recall the binary classification problem that SVMs try to solve. The hard margin SVM finds the seperating decision bounary with the largest margin. \n",
    "\n",
    "<img src=\"MaxMargin.jpg\" height=\"400\" width=\"400\">\n",
    "\n",
    "In this assigment, you will write the code to find the maximum margin for the hard margin case.\n",
    "\n",
    "We showed in class that we could solve this problem  by reducing it to the problem of solving a quadratic programming problem (QP).  There are many solvers for quadratic programming problems. We will use the *Convex Optimization Library*, [CVXOPT](https://cvxopt.org/userguide/coneprog.html#quadratic-programming); a free software package that works well with Python and numpy. \n",
    "You will need to install [CVXOPT](https://cvxopt.org/install/)\n",
    "\n",
    "In CVXOPT, the quadratic programming problem solver, <b><i>cvxopt.solvers.qp</i></b>,  solves the following problem:\n",
    "\n",
    "$$\\begin{eqnarray} \\min_{x}\\frac{1}{2} x^{T}Px - q^{T}x \\nonumber \\\\\\ \\textrm{s.t.}\\quad Gx \\preceq h \\\\\\ \\textrm{and}\\quad Ax = b \\end{eqnarray}$$\n",
    "\n",
    " Note that $ Gx \\preceq h $ is taken elementwise. \n",
    "\n",
    "The solver's (simplified) API is `cvxopt.solvers.qp(P, q, G, h, A, b)` \n",
    "where only $P$ and $q$ are required. \n",
    "\n",
    "You will need to match the solver's API.\n",
    "\n",
    "The solver's argument's type must be CVXOPT matrices. I suggest you first create the arguments as NumpPy arrays and matrices and then convert them to CVXOPT matrices (For example, first import the library: `from cvxopt import matrix` then convert a NumPy matrix `P` to a CVXOPT matrix using ` P = matrix(P)`)\n",
    "\n",
    "What is return by the solver  is a Python dictionary.  If you save the return value in a variable called `sol` (i.e. `sol = solvers.qp(...)`), you can access to the solution of the quadratic programming problem by typing `sol[\"x\"]`.\n"
   ]
  },
  {
   "cell_type": "markdown",
   "metadata": {},
   "source": [
    "# Hard Margin Case"
   ]
  },
  {
   "cell_type": "markdown",
   "metadata": {},
   "source": [
    "### Plot the dataset with the labels."
   ]
  },
  {
   "cell_type": "code",
   "execution_count": 1,
   "metadata": {},
   "outputs": [
    {
     "data": {
      "image/png": "[encoded data removed]",
      "text/plain": [
       "<Figure size 432x288 with 1 Axes>"
      ]
     },
     "metadata": {
      "needs_background": "light"
     },
     "output_type": "display_data"
    }
   ],
   "source": [
    "import numpy as np\n",
    "import csv\n",
    "from numpy import genfromtxt\n",
    "import matplotlib.pyplot as plt\n",
    "from cvxopt import matrix, solvers\n",
    "import cvxopt\n",
    "%matplotlib inline\n",
    "\n",
    "\n",
    "# Use numpy function genfromtxt(…, delimiter=…) to load from files.\n",
    "\n",
    "# Store the data from “X.csv” to X and target from “y.csv” to y\n",
    "X = genfromtxt('X.csv',delimiter = ',')\n",
    "y = genfromtxt('y.csv',delimiter = ',')\n",
    "\n",
    "# Use np.where to find all index of data which y=1 and store them to idx_1\n",
    "idx_1 = np.where(y == 1)\n",
    "# same as y=-1, store them to idx_2\n",
    "idx_2 = np.where(y == -1)\n",
    "\n",
    "# make the plot use plt.scatter(X[idx_1,0], X[idx_1,1], s=30, c='b', marker=\"o\")\n",
    "\n",
    "# Set the x label with x1 and y label with x2\n",
    "plt.scatter(X[idx_1,0], X[idx_1,1], s=30, c='b', marker=\"o\")\n",
    "plt.scatter(X[idx_2,0],X[idx_2,1],s=30,c='r',marker = \"o\")\n",
    "plt.xlabel(\"x1\")\n",
    "plt.ylabel(\"x2\")\n",
    "\n",
    "plt.show()\n"
   ]
  },
  {
   "cell_type": "markdown",
   "metadata": {},
   "source": [
    "## SVM Primal  Problem\n",
    "---\n",
    "### Problem 1.1\n",
    "![qp.png](attachment:qp.png)\n",
    "You will now use the quadratic problem solver to find the maximum margin for the SVM primal problem:\n",
    "\n",
    "$$\\begin{eqnarray}\\left.\\begin{aligned}  \n",
    "&\\min_{w}\\frac{1}{2}||w||^{2} & \\nonumber \\\\\\ \n",
    "&\\textrm{s.t.}  \\quad y^{(i)}(w^{T}{\\bf x}^{(i)} + w_0) \\ge 1 \\quad \\forall i \\end{aligned}\\right.\\end{eqnarray}$$\n",
    "\n",
    "\n",
    "Look back at the lecture notes for the primal problem.  Please note that the variable names used in the lecture are different from the variable names given to decribe the API for CVXOPT's quadratic problem solver.\n"
   ]
  },
  {
   "cell_type": "markdown",
   "metadata": {},
   "source": [
    "### Compute the SVM primal problem and return the weights"
   ]
  },
  {
   "cell_type": "code",
   "execution_count": 2,
   "metadata": {},
   "outputs": [
    {
     "name": "stdout",
     "output_type": "stream",
     "text": [
      "[[0. 0. 0.]\n",
      " [0. 1. 0.]\n",
      " [0. 0. 1.]]\n",
      "Weights:\n",
      " [[ 0.46118099]\n",
      " [ 1.42189318]\n",
      " [-1.58830104]]\n",
      "Weights excluding w0:\n",
      " [array([1.42189318]), array([-1.58830104])]\n"
     ]
    }
   ],
   "source": [
    "def linear_svm(X,y):\n",
    "    solvers.options['show_progress'] = False\n",
    "#     store the shape of X to two variables: N,F\n",
    "    N,F = X.shape\n",
    "\n",
    "#     create the Identity matrix using np.diag and np.ones\n",
    "    I = np.identity(F)     \n",
    "\n",
    "#     create the Q matrix using np.zeros\n",
    "    Q = np.zeros((F+1,F+1))\n",
    "\n",
    "    \n",
    "    identity=np.diag(np.ones(F))\n",
    "    for row in range (F+1):\n",
    "        for column in range(F+1):\n",
    "    #         when row number is 0, set Q[row, col]=0\n",
    "            if row == 0:\n",
    "                Q[row,column]=0\n",
    "    #         when col number is 0 set Q[row,col]=0\n",
    "            elif column == 0:\n",
    "                Q[row,column]=0\n",
    "    #         else, compute Identity [row-1,col-1] and set it to Q[row,col]\n",
    "            else:\n",
    "                Q[row,column] = identity[row-1, column-1]\n",
    "\n",
    "        \n",
    "            \n",
    "\n",
    "#     use cvxopt.matrix to create a new variable p with value Q\n",
    "    P = cvxopt.matrix(Q)\n",
    "\n",
    "#     use cvxopt.matrix to create a new variable q with value np.zeros(F+1)\n",
    "    q = cvxopt.matrix(np.zeros(F+1))\n",
    "\n",
    "\n",
    "#     create an empty list\n",
    "    emptylist = []\n",
    "\n",
    "    for n in range(N):\n",
    "\n",
    "#         create a zero matric with size F+1\n",
    "        zeromatric=np.zeros(F+1)\n",
    "\n",
    "#         for each element in the matric above:\n",
    "        for i in range(F+1):\n",
    "#             when the index=0, then set it to 1\n",
    "#             else, set the value to X[n].T[i-1]\n",
    "            if i == 0:\n",
    "                zeromatric[i]=1\n",
    "            else: \n",
    "                zeromatric[i]=X[n].T[i-1]\n",
    "\n",
    "#     append the y[n]*updated matric to the empty list above (the one above the for loop\n",
    "        emptylist.append(y[n]*zeromatric)\n",
    "#     change the empty list to the np array and times -1\n",
    "    emptylist= -1*np.array(emptylist)\n",
    "\n",
    "#     use cvxopt.matrix to convert above np array and store it in a variable:G\n",
    "    G = cvxopt.matrix(emptylist)\n",
    "\n",
    "#     create a variable named h with value np.ones(N)*-1 and convert it to cvxopt\n",
    "    h = cvxopt.matrix(np.ones(N)*-1)\n",
    "#     solve the primal using cvxopt.solvers.qp\n",
    "    primalanswer = cvxopt.solvers.qp(P,q,G,h)\n",
    "\n",
    "#     return the answer.\n",
    "    print(Q)\n",
    "    return primalanswer\n",
    "\n",
    "# fit svm classifier\n",
    "svmclassifier = linear_svm(X,y)\n",
    "w = np.array(svmclassifier['x'])\n",
    "# print the weights\n",
    "print('Weights:\\n',w)\n",
    "#w1w2 array created for the optimization \n",
    "w1w2 = []\n",
    "w1w2.append(w[1])\n",
    "w1w2.append(w[2])\n",
    "print('Weights excluding w0:\\n', w1w2)\n",
    "\n"
   ]
  },
  {
   "cell_type": "markdown",
   "metadata": {},
   "source": [
    "### Plotting the  decision boundary"
   ]
  },
  {
   "cell_type": "code",
   "execution_count": 3,
   "metadata": {},
   "outputs": [
    {
     "data": {
      "image/png": "[encoded data removed]",
      "text/plain": [
       "<Figure size 432x288 with 1 Axes>"
      ]
     },
     "metadata": {
      "needs_background": "light"
     },
     "output_type": "display_data"
    }
   ],
   "source": [
    "def plot_data_with_decision_boundary(X, y, w, w0, fig_size=(15, 9), labels=['x1', 'x2']):\n",
    "#     plot the dataset\n",
    "    plt.scatter(X[idx_1,0], X[idx_1,1], s=30, c='b', marker=\"o\")\n",
    "    plt.scatter(X[idx_2,0],X[idx_2,1],s=30,c='r',marker = \"o\")\n",
    "    plt.xlabel(\"x1\")\n",
    "    plt.ylabel(\"x2\")\n",
    "\n",
    "#     find the slope of the decision boundary\n",
    "    slope = - w[1] / w[2]\n",
    "#     find the intercept.\n",
    "    yintercept = -w[0] / w[2]\n",
    "#     generate several x values np.arrange()\n",
    "    xvalues = np.arange(0, 6)\n",
    "#     calculate its y values using intercept and slope\n",
    "    yvalues= xvalues * slope + yintercept\n",
    "#     plot a line\n",
    "    plt.plot(xvalues,yvalues,c=\"black\")\n",
    "\n",
    "# plotting the points and decision boundary using the above function  \n",
    "\n",
    "plot_data_with_decision_boundary(X,y,w,w[0])\n",
    "\n"
   ]
  },
  {
   "cell_type": "markdown",
   "metadata": {},
   "source": [
    "### Determine which points are closest to the decision boundary. What is the functional margin of the points closest to the decision boundary?   "
   ]
  },
  {
   "cell_type": "code",
   "execution_count": 4,
   "metadata": {},
   "outputs": [
    {
     "name": "stdout",
     "output_type": "stream",
     "text": [
      "Margin: 0.9381836869408985\n",
      "Points closes to decision boundary: \n",
      "Points Idx:  [68, 49, 25]\n",
      "[[1.71138733 2.45204836]\n",
      " [2.51879639 1.91565724]\n",
      " [2.11457352 1.5537852 ]]\n"
     ]
    }
   ],
   "source": [
    "margin = 2/(((w[1]**2)+(w[2]**2))**(1/2))\n",
    "distanceValues= []\n",
    "for i in X:\n",
    "    dv = ((np.dot(i,w1w2)+w[0]))/((w[1]**2)+(w[2]**2))\n",
    "    distanceValues.append(dv.tolist()[0])\n",
    "# print(X)\n",
    "sorted_indexes = [i[0] for i in sorted(enumerate(np.abs(distanceValues)), key=lambda x:x[1])]\n",
    "# Utility function to get indexes of sorted array from : https://stackoverflow.com/questions/6422700/how-to-get-indices-of-a-sorted-array-in-python\n",
    "distanceValues = sorted_indexes[:3]\n",
    "print(\"Margin:\",margin[0])\n",
    "print(\"Points closes to decision boundary: \")\n",
    "print(\"Points Idx: \",distanceValues)\n",
    "print(X[distanceValues])\n"
   ]
  },
  {
   "cell_type": "markdown",
   "metadata": {},
   "source": [
    "### Write the decision function $f_{\\texttt{primal}}({\\bf x})$ to predict examples.  Use this function to predict the label of $(3.0, 1.5)^T$ and $(1.2, 3.0)^T$\n",
    "\n",
    "Decesion function is to predict if the point is going to be below or above the line and based on that we choose the label for it, red if it is above the line and blue if it is bellow the line."
   ]
  },
  {
   "cell_type": "code",
   "execution_count": 5,
   "metadata": {},
   "outputs": [
    {
     "name": "stdout",
     "output_type": "stream",
     "text": [
      "[2.34440897]\n",
      "[-2.59745033]\n"
     ]
    },
    {
     "data": {
      "text/plain": [
       "<matplotlib.collections.PathCollection at 0x1ef5b7c7430>"
      ]
     },
     "execution_count": 5,
     "metadata": {},
     "output_type": "execute_result"
    },
    {
     "data": {
      "image/png": "[encoded data removed]",
      "text/plain": [
       "<Figure size 432x288 with 1 Axes>"
      ]
     },
     "metadata": {
      "needs_background": "light"
     },
     "output_type": "display_data"
    }
   ],
   "source": [
    "def f_primal(x):\n",
    "    n=np.dot(x,w1w2)+w[0]\n",
    "    print(n)\n",
    "    if n<0:\n",
    "        return True\n",
    "    else:\n",
    "        return False\n",
    "\n",
    "aboveLineColor = 'r'\n",
    "belowLineColor = 'b'\n",
    "p1 = [3.0,1.5]\n",
    "p2 = [1.2,3.0]\n",
    "l1 = aboveLineColor if f_primal(p1) else belowLineColor\n",
    "l2 = aboveLineColor if f_primal(p2) else belowLineColor\n",
    "slope = - w[1] / w[2]\n",
    "yintercept = -w[0] / w[2]\n",
    "xvalues = np.arange(0, 6)\n",
    "yvalues= xvalues * slope + yintercept\n",
    "plt.plot(xvalues,yvalues,c=\"black\")\n",
    "plt.scatter(p1[0], p1[1], s=30, c=l1, marker=\"o\")\n",
    "plt.scatter(p2[0], p2[1], s=30, c=l2, marker=\"o\")"
   ]
  },
  {
   "cell_type": "code",
   "execution_count": null,
   "metadata": {},
   "outputs": [],
   "source": []
  }
 ],
 "metadata": {
  "kernelspec": {
   "display_name": "Python 3",
   "language": "python",
   "name": "python3"
  },
  "language_info": {
   "codemirror_mode": {
    "name": "ipython",
    "version": 3
   },
   "file_extension": ".py",
   "mimetype": "text/x-python",
   "name": "python",
   "nbconvert_exporter": "python",
   "pygments_lexer": "ipython3",
   "version": "3.8.3"
  }
 },
 "nbformat": 4,
 "nbformat_minor": 2
}
